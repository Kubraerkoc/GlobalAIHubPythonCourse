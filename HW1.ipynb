{
  "nbformat": 4,
  "nbformat_minor": 0,
  "metadata": {
    "colab": {
      "name": "Untitled22.ipynb",
      "provenance": [],
      "authorship_tag": "ABX9TyM4jTFKS4BAHwyJe491ddbe",
      "include_colab_link": true
    },
    "kernelspec": {
      "name": "python3",
      "display_name": "Python 3"
    }
  },
  "cells": [
    {
      "cell_type": "markdown",
      "metadata": {
        "id": "view-in-github",
        "colab_type": "text"
      },
      "source": [
        "<a href=\"https://colab.research.google.com/github/Kubraerkoc/GlobalAIHubPythonCourse/blob/main/HW1.ipynb\" target=\"_parent\"><img src=\"https://colab.research.google.com/assets/colab-badge.svg\" alt=\"Open In Colab\"/></a>"
      ]
    },
    {
      "cell_type": "code",
      "metadata": {
        "colab": {
          "base_uri": "https://localhost:8080/"
        },
        "id": "B7U2KTyS09cT",
        "outputId": "12bcc12b-5a67-4fa5-8e9b-5eded7854b89"
      },
      "source": [
        "# Homework 1\r\n",
        "\r\n",
        "firstlist = list(range(1,11,2))\r\n",
        "secondlist = list(range(0,10,2))\r\n",
        "firstlist.extend(secondlist)\r\n",
        "firstlist\r\n",
        "\r\n",
        "nums_square = [i*2 for i in firstlist]\r\n",
        "print(nums_square)\r\n",
        "\r\n",
        "for i in nums_square:\r\n",
        "  print('value={} - type={}'.format(i, type(i)))"
      ],
      "execution_count": 1,
      "outputs": [
        {
          "output_type": "stream",
          "text": [
            "[2, 6, 10, 14, 18, 0, 4, 8, 12, 16]\n",
            "value=2 - type=<class 'int'>\n",
            "value=6 - type=<class 'int'>\n",
            "value=10 - type=<class 'int'>\n",
            "value=14 - type=<class 'int'>\n",
            "value=18 - type=<class 'int'>\n",
            "value=0 - type=<class 'int'>\n",
            "value=4 - type=<class 'int'>\n",
            "value=8 - type=<class 'int'>\n",
            "value=12 - type=<class 'int'>\n",
            "value=16 - type=<class 'int'>\n"
          ],
          "name": "stdout"
        }
      ]
    }
  ]
}