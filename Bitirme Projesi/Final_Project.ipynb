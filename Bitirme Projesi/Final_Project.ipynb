{
  "nbformat": 4,
  "nbformat_minor": 0,
  "metadata": {
    "colab": {
      "name": "Final_Project.ipynb",
      "provenance": []
    },
    "kernelspec": {
      "name": "python3",
      "display_name": "Python 3"
    }
  },
  "cells": [
    {
      "cell_type": "code",
      "metadata": {
        "id": "Mg71V-2wZQX3",
        "colab": {
          "base_uri": "https://localhost:8080/"
        },
        "outputId": "c0899c79-1d19-47ab-b7ab-1d6e466847e2"
      },
      "source": [
        "print(\"Welcome to Information Competition!\")\r\n",
        "print(\"10 questions will be asked. If you answer more than 5 questions correctly, you will be considered successful. Good luck!\")\r\n",
        "question_list = [\r\n",
        "    {\"question\": \"What is the city that Ataturk Born?\", \"answer\": \"Selanik\"},\r\n",
        "    {\"question\": \"What is the last digit of the result of 5 ^ 108?\", \"answer\": \"5\"},\r\n",
        "    {\"question\": \"123456789 * ? + 9 = 987654321 What should be written in the area indicated by the question mark to ensure the operation?\", \"answer\": \"8\"},\r\n",
        "    {\"question\": \"AC-DG-HL What is the next step of the pattern?\", \"answer\": \"MS\"},\r\n",
        "    {\"question\": \"'e, z, u, a, v, n, m, e' Use the letters to form the correct word.\", \"answer\": \"muvazene\"},\r\n",
        "    {\"question\": \"Some months have 30, some have 31; How many months have 28 days?\", \"answer\": \"12\"},\r\n",
        "    {\"question\": \"06, 68, 88, ?, 98 Which number should be written in the place with question mark?\", \"answer\": \"87\"},\r\n",
        "    {\"question\": \"1 + 4 = 5, 2 + 5 = 12, 3 + 6 = 21, 8 + 11 = ? Which number should be written in the place with question mark?\", \"answer\": \"96\"},\r\n",
        "    {\"question\": \"What is the sum of the numbers of the result after multiplying 9 by a number?\", \"answer\": \"9\"},\r\n",
        "    {\"question\": \"12 * 12 = 9, 23 * 23 = 16, 34 * 34 = ?, Which number should come to the place with the question mark?\", \"answer\": \"13\"}\r\n",
        "]\r\n",
        "\r\n",
        "question_number = 1\r\n",
        "points = 0\r\n",
        "for question in question_list:\r\n",
        "    answer = input(\"Question-{} {} = \".format(question_number,\r\n",
        "                                              question.get('question')))\r\n",
        "    if answer == question.get('answer'):\r\n",
        "        points += 10\r\n",
        "    question_number += 1\r\n",
        "print(points)\r\n",
        "\r\n",
        "if points > 50:\r\n",
        "  print(\"Congratulations! You are successful!\")\r\n",
        "else:\r\n",
        "  print(\"Sorry, you are not successful.\")"
      ],
      "execution_count": 3,
      "outputs": [
        {
          "output_type": "stream",
          "text": [
            "Welcome to Information Competition!\n",
            "10 questions will be asked. If you answer more than 5 questions correctly, you will be considered successful. Good luck!\n",
            "Question-1 What is the city that Ataturk Born? = Selanik\n",
            "Question-2 What is the last digit of the result of 5 ^ 108? = 5\n",
            "Question-3 123456789 * ? + 9 = 987654321 What should be written in the area indicated by the question mark to ensure the operation? = 8\n",
            "Question-4 AC-DG-HL What is the next step of the pattern? = ms\n",
            "Question-5 'e, z, u, a, v, n, m, e' Use the letters to form the correct word. = muzavene\n",
            "Question-6 Some months have 30, some have 31; How many months have 28 days? = 12\n",
            "Question-7 06, 68, 88, ?, 98 Which number should be written in the place with question mark? = 87\n",
            "Question-8 1 + 4 = 5, 2 + 5 = 12, 3 + 6 = 21, 8 + 11 = ? Which number should be written in the place with question mark? = 45\n",
            "Question-9 What is the sum of the numbers of the result after multiplying 9 by a number? = 9\n",
            "Question-10 12 * 12 = 9, 23 * 23 = 16, 34 * 34 = ?, Which number should come to the place with the question mark? = 34\n",
            "60\n",
            "Congratulations! You are successful!\n"
          ],
          "name": "stdout"
        }
      ]
    }
  ]
}