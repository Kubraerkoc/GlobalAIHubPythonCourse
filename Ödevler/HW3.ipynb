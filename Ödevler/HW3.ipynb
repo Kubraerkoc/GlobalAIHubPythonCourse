{
  "nbformat": 4,
  "nbformat_minor": 0,
  "metadata": {
    "colab": {
      "name": "HW3.ipynb",
      "provenance": []
    },
    "kernelspec": {
      "name": "python3",
      "display_name": "Python 3"
    }
  },
  "cells": [
    {
      "cell_type": "code",
      "metadata": {
        "colab": {
          "base_uri": "https://localhost:8080/"
        },
        "id": "JA_flbV-4LVa",
        "outputId": "923fa789-6dc3-402a-e9d1-08921d528079"
      },
      "source": [
        "def get_student_info():\r\n",
        "    name = input(\"Please type your name:\")\r\n",
        "    midterm_grade = float(input(\"Please enter the midterm grade:\"))\r\n",
        "    project_grade = float(input(\"Please enter the project grade:\"))\r\n",
        "    final_grade = float(input(\"Please enter the final grade:\"))\r\n",
        "    passing_grade = midterm_grade*0.3 + project_grade*0.3 + final_grade*0.4\r\n",
        "\r\n",
        "    student = {\"name\": name ,\"midterm grade\": midterm_grade,\r\n",
        "               \"project_grade\": project_grade ,\r\n",
        "               \"final_grade\": final_grade ,\r\n",
        "               \"passing_grade\": passing_grade }\r\n",
        "\r\n",
        "    return student\r\n",
        "\r\n",
        "\r\n",
        "student_list  = []\r\n",
        "\r\n",
        "for i  in  range(5):\r\n",
        "    student = get_student_info()\r\n",
        "    student_list.append(student)\r\n",
        "\r\n",
        "student_list.sort(key = lambda  x: x['passing_grade'], reverse=True )\r\n",
        "print(student_list)"
      ],
      "execution_count": 1,
      "outputs": [
        {
          "output_type": "stream",
          "text": [
            "Please type your name:Ahmet\n",
            "Please enter the midterm grade:70\n",
            "Please enter the project grade:86\n",
            "Please enter the final grade:90\n",
            "Please type your name:Mehmet\n",
            "Please enter the midterm grade:80\n",
            "Please enter the project grade:85\n",
            "Please enter the final grade:70\n",
            "Please type your name:Ayşe\n",
            "Please enter the midterm grade:100\n",
            "Please enter the project grade:70\n",
            "Please enter the final grade:86\n",
            "Please type your name:Ali\n",
            "Please enter the midterm grade:60\n",
            "Please enter the project grade:90\n",
            "Please enter the final grade:89\n",
            "Please type your name:Zeynep\n",
            "Please enter the midterm grade:70\n",
            "Please enter the project grade:90\n",
            "Please enter the final grade:100\n",
            "[{'name': 'Zeynep', 'midterm grade': 70.0, 'project_grade': 90.0, 'final_grade': 100.0, 'passing_grade': 88.0}, {'name': 'Ayşe', 'midterm grade': 100.0, 'project_grade': 70.0, 'final_grade': 86.0, 'passing_grade': 85.4}, {'name': 'Ahmet', 'midterm grade': 70.0, 'project_grade': 86.0, 'final_grade': 90.0, 'passing_grade': 82.8}, {'name': 'Ali', 'midterm grade': 60.0, 'project_grade': 90.0, 'final_grade': 89.0, 'passing_grade': 80.6}, {'name': 'Mehmet', 'midterm grade': 80.0, 'project_grade': 85.0, 'final_grade': 70.0, 'passing_grade': 77.5}]\n"
          ],
          "name": "stdout"
        }
      ]
    }
  ]
}