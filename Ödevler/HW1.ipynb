{
  "nbformat": 4,
  "nbformat_minor": 0,
  "metadata": {
    "colab": {
      "name": "Untitled22.ipynb",
      "provenance": []
    },
    "kernelspec": {
      "name": "python3",
      "display_name": "Python 3"
    }
  },
  "cells": [
    {
      "cell_type": "code",
      "metadata": {
        "colab": {
          "base_uri": "https://localhost:8080/"
        },
        "id": "B7U2KTyS09cT",
        "outputId": "12bcc12b-5a67-4fa5-8e9b-5eded7854b89"
      },
      "source": [
        "# Homework 1\r\n",
        "\r\n",
        "firstlist = list(range(1,11,2))\r\n",
        "secondlist = list(range(0,10,2))\r\n",
        "firstlist.extend(secondlist)\r\n",
        "firstlist\r\n",
        "\r\n",
        "nums_square = [i*2 for i in firstlist]\r\n",
        "print(nums_square)\r\n",
        "\r\n",
        "for i in nums_square:\r\n",
        "  print('value={} - type={}'.format(i, type(i)))"
      ],
      "execution_count": 1,
      "outputs": [
        {
          "output_type": "stream",
          "text": [
            "[2, 6, 10, 14, 18, 0, 4, 8, 12, 16]\n",
            "value=2 - type=<class 'int'>\n",
            "value=6 - type=<class 'int'>\n",
            "value=10 - type=<class 'int'>\n",
            "value=14 - type=<class 'int'>\n",
            "value=18 - type=<class 'int'>\n",
            "value=0 - type=<class 'int'>\n",
            "value=4 - type=<class 'int'>\n",
            "value=8 - type=<class 'int'>\n",
            "value=12 - type=<class 'int'>\n",
            "value=16 - type=<class 'int'>\n"
          ],
          "name": "stdout"
        }
      ]
    }
  ]
}