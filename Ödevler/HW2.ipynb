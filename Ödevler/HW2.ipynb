{
  "nbformat": 4,
  "nbformat_minor": 0,
  "metadata": {
    "colab": {
      "name": "Untitled23.ipynb",
      "provenance": []
    },
    "kernelspec": {
      "name": "python3",
      "display_name": "Python 3"
    }
  },
  "cells": [
    {
      "cell_type": "code",
      "metadata": {
        "id": "z-vU60K74A_v",
        "outputId": "ba174155-c49d-4b37-d1a8-e56d3106085f",
        "colab": {
          "base_uri": "https://localhost:8080/"
        }
      },
      "source": [
        "cv1 = {\"Name\":\"Jane\", \"Surname\":\"Evans\", \"Contact Informaiton\":\"987864\", \"Education Information\":\"Durham University\", \"Computer Skills\":\"Matlab, SolidWorks\", \"Language Skills\":\"English, French\"}\r\n",
        "cv2 = {\"Name\":\"Oliver\", \"Surname\":\"Taylor\", \"Contact Informaiton\":\"935627\", \"Education Information\":\"University of Alberta\", \"Computer Skills\":\"AutoCad, Ansys\", \"Language Skills\":\"English, Spanish\"}\r\n",
        "cv3 = {\"Name\":\"Isla\", \"Surname\":\"Roberts\", \"Contact Informaiton\":\"985427\", \"Education Information\":\"University of Ottawa\", \"Computer Skills\":\"Minitab, GAMS\", \"Language Skills\":\"English, German\"}\r\n",
        "cv3 = {\"Name\":\"Oscar\", \"Surname\":\"Jones\", \"Contact Informaiton\":\"943201\", \"Education Information\":\"University of Sydney\", \"Computer Skills\":\"Visual Studio, SQL Server\", \"Language Skills\":\"English, French\"}\r\n",
        "cv4 = {\"Name\":\"Sophie\", \"Surname\":\"Davies\", \"Contact Informaiton\":\"912573\", \"Education Information\":\"Northeastern University\", \"Computer Skills\":\"Lingo, ERP\", \"Language Skills\":\"English\"}\r\n",
        "cv5 = {\"Name\":\"Lily\", \"Surname\":\"Brown\", \"Contact Informaiton\":\"906342\", \"Education Information\":\"University of Liverpool\", \"Computer Skills\":\"AutoCAD3D, SoldiWorks\", \"Language Skills\":\"English\"}\r\n",
        "print(cv1, cv2, cv3, cv4, cv5, sep=\"\\n\")"
      ],
      "execution_count": 1,
      "outputs": [
        {
          "output_type": "stream",
          "text": [
            "{'Name': 'Jane', 'Surname': 'Evans', 'Contact Informaiton': '987864', 'Education Information': 'Durham University', 'Computer Skills': 'Matlab, SolidWorks', 'Language Skills': 'English, French'}\n",
            "{'Name': 'Oliver', 'Surname': 'Taylor', 'Contact Informaiton': '935627', 'Education Information': 'University of Alberta', 'Computer Skills': 'AutoCad, Ansys', 'Language Skills': 'English, Spanish'}\n",
            "{'Name': 'Oscar', 'Surname': 'Jones', 'Contact Informaiton': '943201', 'Education Information': 'University of Sydney', 'Computer Skills': 'Visual Studio, SQL Server', 'Language Skills': 'English, French'}\n",
            "{'Name': 'Sophie', 'Surname': 'Davies', 'Contact Informaiton': '912573', 'Education Information': 'Northeastern University', 'Computer Skills': 'Lingo, ERP', 'Language Skills': 'English'}\n",
            "{'Name': 'Lily', 'Surname': 'Brown', 'Contact Informaiton': '906342', 'Education Information': 'University of Liverpool', 'Computer Skills': 'AutoCAD3D, SoldiWorks', 'Language Skills': 'English'}\n"
          ],
          "name": "stdout"
        }
      ]
    }
  ]
}